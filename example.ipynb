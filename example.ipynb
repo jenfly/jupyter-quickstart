{
 "cells": [
  {
   "cell_type": "markdown",
   "metadata": {},
   "source": [
    "# Example Notebook\n",
    "\n",
    "This is a Markdown cell. We can use headings, **bold**,  _italics_, equations like $A=\\pi r^2$, bulleted lists, and more.\n",
    "- Item 1\n",
    " - Sub-item 1a\n",
    "- Item 2\n",
    "- Item 3"
   ]
  },
  {
   "cell_type": "code",
   "execution_count": 3,
   "metadata": {},
   "outputs": [
    {
     "name": "stdout",
     "output_type": "stream",
     "text": [
      "I am a code cell\n"
     ]
    }
   ],
   "source": [
    "print('I am a code cell')"
   ]
  },
  {
   "cell_type": "markdown",
   "metadata": {},
   "source": [
    "I am another **markdown** cell.\n",
    "\n",
    "[Notebook Basics](https://github.com/ipython/ipython-in-depth/blob/4d9893735b16c30cf6408de57923bcbe8927b7d7/examples/Notebook/Notebook%20Basics.ipynb)\n",
    "\n",
    "[Beyond Plain Python](https://github.com/ipython/ipython-in-depth/blob/4d9893735b16c30cf6408de57923bcbe8927b7d7/examples/IPython%20Kernel/Beyond%20Plain%20Python.ipynb)"
   ]
  },
  {
   "cell_type": "code",
   "execution_count": null,
   "metadata": {},
   "outputs": [],
   "source": []
  }
 ],
 "metadata": {
  "kernelspec": {
   "display_name": "Python 3",
   "language": "python",
   "name": "python3"
  },
  "language_info": {
   "codemirror_mode": {
    "name": "ipython",
    "version": 3
   },
   "file_extension": ".py",
   "mimetype": "text/x-python",
   "name": "python",
   "nbconvert_exporter": "python",
   "pygments_lexer": "ipython3",
   "version": "3.6.5"
  }
 },
 "nbformat": 4,
 "nbformat_minor": 2
}

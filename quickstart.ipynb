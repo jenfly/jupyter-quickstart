{
 "cells": [
  {
   "cell_type": "markdown",
   "metadata": {},
   "source": [
    "# Jupyter Quick Start Tutorial\n",
    "\n",
    "### Under construction! Coming soon in September 2018.\n",
    "\n",
    "This tutorial is intended as a minimal introduction to get you up and running with JupyterLab and Jupyter notebooks in less than 10 minutes. \n",
    "\n",
    "For more details and many handy tips, check out the [JupyterLab documentation](http://jupyterlab.readthedocs.io/en/stable/getting_started/overview.html), [Jupyter notebook documentation](http://jupyter-notebook.readthedocs.io/en/stable/), and the [Jupyter notebook live demo](http://jupyter.org/try) (click \"Try Jupyter with Python\").\n",
    "\n",
    "## Jupyter Notebooks\n",
    "\n",
    "This document is a Jupyter notebook, consisting of a series of \"cells\" which can be text cells (like this text here) or code cells, where you can execute snippets of code and display the output. \n",
    "\n",
    "### Code Cells\n",
    "\n",
    "Below is a Python code cell. You can run the cell by clicking in it and then pressing `Shift-Enter`."
   ]
  },
  {
   "cell_type": "code",
   "execution_count": 4,
   "metadata": {},
   "outputs": [
    {
     "name": "stdout",
     "output_type": "stream",
     "text": [
      "Today is Thursday and the weather is sunny\n"
     ]
    }
   ],
   "source": [
    "today = 'Thursday'\n",
    "weather = 'sunny'\n",
    "print('Today is ' + today + ' and the weather is ' + weather)"
   ]
  },
  {
   "cell_type": "markdown",
   "metadata": {},
   "source": [
    "If you run the cell above, you'll see that the output is displayed below the cell.\n",
    "\n",
    "To edit a code cell, simply click inside it and start editing the code. Try editing the cell above by changing the values of the variables and/or adding some new lines of code, and then run the cell again."
   ]
  },
  {
   "cell_type": "markdown",
   "metadata": {},
   "source": [
    "Annotated screenshots showing launcher, files sidebar, toolbar, top menu\n",
    "\n",
    "http://nbviewer.jupyter.org/github/ipython/ipython-in-depth/blob/4d9893735b16c30cf6408de57923bcbe8927b7d7/Index.ipynb"
   ]
  },
  {
   "cell_type": "code",
   "execution_count": null,
   "metadata": {},
   "outputs": [],
   "source": []
  }
 ],
 "metadata": {
  "kernelspec": {
   "display_name": "Python [default]",
   "language": "python",
   "name": "python3"
  },
  "language_info": {
   "codemirror_mode": {
    "name": "ipython",
    "version": 3
   },
   "file_extension": ".py",
   "mimetype": "text/x-python",
   "name": "python",
   "nbconvert_exporter": "python",
   "pygments_lexer": "ipython3",
   "version": "3.6.4"
  }
 },
 "nbformat": 4,
 "nbformat_minor": 2
}

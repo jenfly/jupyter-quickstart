{
 "cells": [
  {
   "cell_type": "markdown",
   "metadata": {},
   "source": [
    "# Jupyter Quick Start Tutorial\n",
    "\n",
    "This tutorial is intended as a **minimal introduction** to quickly get you up and running with the basics of **JupyterLab** and **Jupyter notebooks**. To work through this tutorial as a live demo online, click the \"launch binder\" button below (it might take a minute or two to load). \n",
    "\n",
    "<a href=\"https://mybinder.org/v2/gh/jenfly/jupyter-quickstart/master?urlpath=lab/tree/quickstart.ipynb\" target=\"_blank\"><img src=\"https://mybinder.org/badge.svg\"></a>\n",
    "\n",
    "\n",
    "For more comprehensive and in-depth Jupyter resources, check out the [JupyterLab documentation](http://jupyterlab.readthedocs.io/en/stable/getting_started/overview.html), [Jupyter notebook documentation](http://jupyter-notebook.readthedocs.io/en/stable/), and this [tutorial from PyCon 2017](http://nbviewer.jupyter.org/github/ipython/ipython-in-depth/blob/master/Index.ipynb). _Note: The latter two resources show how to work on a notebook within the classic Jupyter notebook app, rather than the newer JupyterLab development environment that we're focusing on here, so the user interface will look a bit different, but the ideas and structure of the notebook are the same whether you use the classic notebook or JupyterLab._"
   ]
  },
  {
   "cell_type": "markdown",
   "metadata": {},
   "source": [
    "## JupyterLab\n",
    "\n",
    "To install and run JupyterLab, follow [these instructions](https://jenfly.github.io/pyladies-pandas/SETUP). When you launch JupyterLab, it will look similar to the screenshot below. If you're working through this tutorial locally on your computer, use the **Files Sidebar** to navigate to the folder you'd like to save your work in. (If you're doing the live demo online you can skip this step.) From here you can:\n",
    "- Open an existing Jupyter notebook (`.ipynb` file such as this one) by double-clicking on it, or\n",
    "- Create a new Jupyter notebook in the current working directory by clicking the Python icon listed under \"Notebook\" in the **Launcher**."
   ]
  },
  {
   "cell_type": "markdown",
   "metadata": {},
   "source": [
    "![jupyterlab1](img/jupyterlab1.png)"
   ]
  },
  {
   "cell_type": "markdown",
   "metadata": {},
   "source": [
    "_Note: If you launch JupyterLab from Anaconda Navigator, it will initialize from your user directory (e.g., `C:\\Users\\jenfly`) and you will only be able to access sub-folders and files within this directory. To launch JupyterLab from other directories, use the command line (Anaconda Prompt on Windows, Terminal on Mac)._\n",
    "\n",
    "Within the JupyterLab development environment, you can:\n",
    "- View, edit, and run Jupyter notebooks\n",
    "- Rename, move, and delete files in the Files Sidebar as you would in your computer's file manager\n",
    "- View CSV files in the **CSV Viewer** &mdash; just double-click on the file in the Files Sidebar\n",
    "- Create and edit .py, .md and other text files in the **Text Editor**\n",
    "- View .md files with **Markdown Preview** &mdash; right-click on the file in the Files Sidebar and select Open $\\rightarrow$ Markdown Preview\n",
    "- View PDF documents &mdash; just double-click on the file in the Files Sidebar\n",
    "- Work in the **IPython Console** for interactive coding sessions that you don't want to save in a notebook\n",
    "- Work at the command line in **Terminal**\n",
    "- and more!\n",
    "\n",
    "The rest of this tutorial will focus on Jupyter notebooks."
   ]
  },
  {
   "cell_type": "markdown",
   "metadata": {},
   "source": [
    "## Jupyter Notebooks\n",
    "\n",
    "This tutorial document is a Jupyter notebook, consisting of a series of \"cells\" which can be **code cells**, where you execute snippets of code and display the output, or **Markdown cells**&mdash;like this one&mdash;with formatted text, images, equations, and more. The screenshot below shows an example notebook as it appears in JupyterLab."
   ]
  },
  {
   "cell_type": "markdown",
   "metadata": {},
   "source": [
    "![jupyterlab2](img/jupyterlab2.png)"
   ]
  },
  {
   "cell_type": "markdown",
   "metadata": {},
   "source": [
    "**Let's create a new Jupyter notebook:** From the Launcher, click the Python icon under \"Notebook\". A new notebook `Untitled.ipynb` will open and you'll also see the new file `Untitled.ipynb` appear in the Files Sidebar. You can **rename the notebook** by clicking in the tab at the top of the notebook or right-clicking on the file in the Files Sidebar. _Note: If you're in the live demo, this new notebook will only exist for as long as the demo is open and active._ \n",
    "\n",
    "Jupyter notebooks **auto-save** frequently, like documents in Google Docs. If you want to manually save a notebook, you can click the Save button on the **Notebook Toolbar** or press `Ctrl-S` (`Cmd-S` on a Mac)."
   ]
  },
  {
   "cell_type": "markdown",
   "metadata": {},
   "source": [
    "### Code Cells\n",
    "\n",
    "Below is a Python code cell. **To run a code cell**, click in a cell and press `Shift-Enter` or click the play button in the Notebook Toolbar. This will run the code in the cell and advance to the next cell, creating a new one if none exists below.\n",
    "\n",
    "Any output from the code will be displayed below the cell."
   ]
  },
  {
   "cell_type": "code",
   "execution_count": 1,
   "metadata": {},
   "outputs": [
    {
     "name": "stdout",
     "output_type": "stream",
     "text": [
      "cat\n",
      "dog\n",
      "horse\n",
      "rabbit\n",
      "duck\n"
     ]
    }
   ],
   "source": [
    "animals = ['cat', 'dog', 'horse', 'rabbit', 'duck']\n",
    "for animal in animals:\n",
    "    print(animal)"
   ]
  },
  {
   "cell_type": "markdown",
   "metadata": {},
   "source": [
    "**To edit a code cell**, simply click inside it and start editing the code. Try editing the code in the cell above&mdash;for example, add some more animals to the list&mdash;and then run the cell. _Note: If you edit a cell but don't run it, it will retain the output from before the edit, which can get confusing. Make sure to always run a cell right away when you edit it._\n",
    "\n",
    "Similar to the standard Python console, if you run some code without assigning the output to a variable, it will simply display the output. This is handy for displaying the results of a calculation without needing to use `print`."
   ]
  },
  {
   "cell_type": "code",
   "execution_count": 2,
   "metadata": {},
   "outputs": [
    {
     "data": {
      "text/plain": [
       "4"
      ]
     },
     "execution_count": 2,
     "metadata": {},
     "output_type": "execute_result"
    }
   ],
   "source": [
    "2 + 2"
   ]
  },
  {
   "cell_type": "code",
   "execution_count": 3,
   "metadata": {},
   "outputs": [
    {
     "data": {
      "text/plain": [
       "3.14"
      ]
     },
     "execution_count": 3,
     "metadata": {},
     "output_type": "execute_result"
    }
   ],
   "source": [
    "round(3.14159, 2)"
   ]
  },
  {
   "cell_type": "markdown",
   "metadata": {},
   "source": [
    "With multi-line cells, such as below, each line of code is executed but the only unassigned output displayed is from the last line:"
   ]
  },
  {
   "cell_type": "code",
   "execution_count": 4,
   "metadata": {},
   "outputs": [
    {
     "data": {
      "text/plain": [
       "3.14"
      ]
     },
     "execution_count": 4,
     "metadata": {},
     "output_type": "execute_result"
    }
   ],
   "source": [
    "2 + 2\n",
    "round(3.14159, 2)"
   ]
  },
  {
   "cell_type": "markdown",
   "metadata": {},
   "source": [
    "### Markdown Cells\n",
    "\n",
    "In Markdown cells, you can write plain text or add formatting and other elements with [Markdown](https://www.markdownguide.org/getting-started). These include headers, **bold text**, _italic text_, hyperlinks, equations $A=\\pi r^2$, inline code `print('Hello world!')`, bulleted lists, and more.\n",
    "\n",
    "**To edit a Markdown cell**, you need to double-click inside it (unlike code cells, where you only need to single-click). Try double-clicking on this cell to see what the Markdown syntax looks like and make some edits. As with a code cell, you press `Shift+Enter` or click the play button in the Notebook Toolbar to run the cell and render the formatting. \n",
    "\n",
    "By default, new cells are always code cells. **To create a Markdown cell**, select an empty code cell and then click on the Notebook Toolbar where it says \"Code\"&mdash;this displays a dropdown menu where you can change the cell type to \"Markdown\".\n",
    "\n",
    "For more Markdown syntax, check out the [Markdown cheatsheet](https://github.com/adam-p/markdown-here/wiki/Markdown-Cheatsheet)."
   ]
  },
  {
   "cell_type": "markdown",
   "metadata": {},
   "source": [
    "### Auto-Complete\n",
    "\n",
    "In Jupyter notebooks, auto-complete works for any object, including variable names, functions, attributes, and methods. It even works for file paths and keyword arguments! To try out the auto-complete features, first run the two cells below:"
   ]
  },
  {
   "cell_type": "code",
   "execution_count": 5,
   "metadata": {},
   "outputs": [],
   "source": [
    "import math"
   ]
  },
  {
   "cell_type": "code",
   "execution_count": 6,
   "metadata": {},
   "outputs": [],
   "source": [
    "today = 'Saturday'\n",
    "tomorrow = 'Sunday'"
   ]
  },
  {
   "cell_type": "markdown",
   "metadata": {},
   "source": [
    "Then, in the empty cells below, try the following:\n",
    "- Type `to` and press `Tab` to select `today` or `tomorrow` from a list of auto-complete options.\n",
    "- Type `ro` and press `Tab`. It automatically completes with the `round` function name (unless you've previously defined another object with a name starting `ro`).\n",
    "- Type `today.` and press `Tab` (make sure to include the dot) to display available methods and attributes for the string variable `today`.\n",
    "- Type `math.` and press `Tab` (make sure to include the dot) to see what's in the `math` library.\n",
    "- Type `data_file = 'i` and press `Tab`&mdash;it will auto-complete to `'iris.csv'`.\n",
    " - _Note: If you're doing this tutorial locally on your computer and don't have an `iris.csv` file, you can select a different file to try this out._"
   ]
  },
  {
   "cell_type": "code",
   "execution_count": null,
   "metadata": {},
   "outputs": [],
   "source": []
  },
  {
   "cell_type": "code",
   "execution_count": null,
   "metadata": {},
   "outputs": [],
   "source": []
  },
  {
   "cell_type": "code",
   "execution_count": null,
   "metadata": {},
   "outputs": [],
   "source": []
  },
  {
   "cell_type": "code",
   "execution_count": null,
   "metadata": {},
   "outputs": [],
   "source": []
  },
  {
   "cell_type": "code",
   "execution_count": null,
   "metadata": {},
   "outputs": [],
   "source": []
  },
  {
   "cell_type": "markdown",
   "metadata": {},
   "source": [
    "### Viewing Documentation\n",
    "\n",
    "With any Python object, such as a function or method, you can type `?` after the object name to display its documentation."
   ]
  },
  {
   "cell_type": "code",
   "execution_count": 7,
   "metadata": {},
   "outputs": [
    {
     "data": {
      "text/plain": [
       "\u001b[1;31mDocstring:\u001b[0m\n",
       "sqrt(x)\n",
       "\n",
       "Return the square root of x.\n",
       "\u001b[1;31mType:\u001b[0m      builtin_function_or_method\n"
      ]
     },
     "metadata": {},
     "output_type": "display_data"
    }
   ],
   "source": [
    "math.sqrt?"
   ]
  },
  {
   "cell_type": "markdown",
   "metadata": {},
   "source": [
    "You can also display documentation as you type a function call, by pressing `Shift-Tab` inside the parentheses.\n",
    "\n",
    "If the source code of a function or method is short enough, you can display it with `??` after the object name."
   ]
  },
  {
   "cell_type": "code",
   "execution_count": 8,
   "metadata": {},
   "outputs": [],
   "source": [
    "def fibonacci_sequence(n):\n",
    "    \"\"\"Return the first n numbers of the Fibonacci sequence\"\"\"\n",
    "    sequence = []\n",
    "    a, b = 0, 1\n",
    "    for i in range(n):\n",
    "        a, b = b, a + b\n",
    "        sequence.append(a)\n",
    "    return sequence"
   ]
  },
  {
   "cell_type": "code",
   "execution_count": 9,
   "metadata": {},
   "outputs": [
    {
     "data": {
      "text/plain": [
       "\u001b[1;31mSignature:\u001b[0m \u001b[0mfibonacci_sequence\u001b[0m\u001b[1;33m(\u001b[0m\u001b[0mn\u001b[0m\u001b[1;33m)\u001b[0m\u001b[1;33m\u001b[0m\u001b[0m\n",
       "\u001b[1;31mSource:\u001b[0m   \n",
       "\u001b[1;32mdef\u001b[0m \u001b[0mfibonacci_sequence\u001b[0m\u001b[1;33m(\u001b[0m\u001b[0mn\u001b[0m\u001b[1;33m)\u001b[0m\u001b[1;33m:\u001b[0m\u001b[1;33m\n",
       "\u001b[0m    \u001b[1;34m\"\"\"Return the first n numbers of the Fibonacci sequence\"\"\"\u001b[0m\u001b[1;33m\n",
       "\u001b[0m    \u001b[0msequence\u001b[0m \u001b[1;33m=\u001b[0m \u001b[1;33m[\u001b[0m\u001b[1;33m]\u001b[0m\u001b[1;33m\n",
       "\u001b[0m    \u001b[0ma\u001b[0m\u001b[1;33m,\u001b[0m \u001b[0mb\u001b[0m \u001b[1;33m=\u001b[0m \u001b[1;36m0\u001b[0m\u001b[1;33m,\u001b[0m \u001b[1;36m1\u001b[0m\u001b[1;33m\n",
       "\u001b[0m    \u001b[1;32mfor\u001b[0m \u001b[0mi\u001b[0m \u001b[1;32min\u001b[0m \u001b[0mrange\u001b[0m\u001b[1;33m(\u001b[0m\u001b[0mn\u001b[0m\u001b[1;33m)\u001b[0m\u001b[1;33m:\u001b[0m\u001b[1;33m\n",
       "\u001b[0m        \u001b[0ma\u001b[0m\u001b[1;33m,\u001b[0m \u001b[0mb\u001b[0m \u001b[1;33m=\u001b[0m \u001b[0mb\u001b[0m\u001b[1;33m,\u001b[0m \u001b[0ma\u001b[0m \u001b[1;33m+\u001b[0m \u001b[0mb\u001b[0m\u001b[1;33m\n",
       "\u001b[0m        \u001b[0msequence\u001b[0m\u001b[1;33m.\u001b[0m\u001b[0mappend\u001b[0m\u001b[1;33m(\u001b[0m\u001b[0ma\u001b[0m\u001b[1;33m)\u001b[0m\u001b[1;33m\n",
       "\u001b[0m    \u001b[1;32mreturn\u001b[0m \u001b[0msequence\u001b[0m\u001b[1;33m\u001b[0m\u001b[0m\n",
       "\u001b[1;31mFile:\u001b[0m      c:\\users\\jenfl\\projects\\jupyter-quickstart\\<ipython-input-8-3ac26582259e>\n",
       "\u001b[1;31mType:\u001b[0m      function\n"
      ]
     },
     "metadata": {},
     "output_type": "display_data"
    }
   ],
   "source": [
    "fibonacci_sequence??"
   ]
  },
  {
   "cell_type": "markdown",
   "metadata": {},
   "source": [
    "### Organizing Cells\n",
    "\n",
    "**To add a cell** in between two existing cells, click the upper cell to select it (a vertical blue line to the left indicates that the cell is selected) and then press the `+` button in the Notebook Toolbar. Try adding a few new cells below this one:"
   ]
  },
  {
   "cell_type": "markdown",
   "metadata": {},
   "source": [
    "You can **move cells up or down**: First select the cell by clicking at the outside left of the cell. The cursor will change to a pointer with four arrows (if it doesn't, move the cursor up towards the top of the cell until it changes) and then you can drag the cell up or down. Try moving this Markdown cell up/down, or rearrange the new cells that you added above."
   ]
  },
  {
   "cell_type": "markdown",
   "metadata": {},
   "source": [
    "It's important to be aware that unlike a script, where the code in a file is executed from top to bottom, notebooks are **nonlinear**&mdash;cells can be executed out of order and multiple times each. This can cause errors or unexpected behaviour if you're not careful. We'll discuss this further in the next section."
   ]
  },
  {
   "cell_type": "markdown",
   "metadata": {},
   "source": [
    "### Managing Code Execution and Output\n",
    "\n",
    "When you open a Jupyter notebook, it launches a process in the background called a **kernel**, which executes code sent by the user and communicates the results back to the notebook interface in the browser. Python-based Jupyter notebooks use an [IPython kernel](https://ipython.org/), which provides many handy features for interactive coding, such as auto-complete, object introspection, magic commands, and more. Jupyter notebooks also support R, Julia, Perl, and over 100 other languages.\n",
    "\n",
    "The input/output history labels to the left of each code cell (e.g., `In[3]`, `Out[3]`) give you information about the history of cell execution for your current kernel session. If there is no number inside the square brackets, the code cell has not yet been run. If there is a number inside the square brackets, it tells you the order of execution of this cell during the current kernel session (the kernel session has a counter that increments by one each time you execute a cell).\n",
    "\n",
    "You can restart a kernel session, which clears out all the variables and imported libraries, while maintaining the output of all the code cells. In addition to running cells one at a time, you can select several cells and run them in order, or run all the notebook's cells, from start to end. These options are available in the Kernel menu and the Run menu\n",
    "\n",
    "From the **Top Menu**, try each of the following:\n",
    "- Select Kernel $\\rightarrow$ Restart Kernel and Clear All Outputs. You'll see all the code output disappears, the input/output history labels are empty (`In[]`, `Out[]`), and the previously defined variables and imported libraries are no longer available.\n",
    "- Select Run $\\rightarrow$ Run All Cells to run all the cells, from top to bottom.\n",
    "- Select Kernel $\\rightarrow$ Restart Kernel. You'll see that the code output remains, but previously defined variables and imported libraries are no longer available.\n",
    "- Experiment with other options from the Run menu and the Kernel menu, such as running several selected cells, or running all cells above/below a selected cell.\n",
    "\n",
    "#### Caveats\n",
    "\n",
    "Since notebooks are nonlinear, as mentioned in the previous section, and cells can be run multiple times and out of order, you'll find that as you work on your notebook, the numbers in the `In[]`, `Out[]` labels are often not in order. Try running the cell below a few times in a row and see that the number increments by one each time. Then try running the three cells below, in different orders, to see how the numbers change."
   ]
  },
  {
   "cell_type": "code",
   "execution_count": 10,
   "metadata": {},
   "outputs": [
    {
     "data": {
      "text/plain": [
       "-7"
      ]
     },
     "execution_count": 10,
     "metadata": {},
     "output_type": "execute_result"
    }
   ],
   "source": [
    "3 - 10"
   ]
  },
  {
   "cell_type": "code",
   "execution_count": 11,
   "metadata": {},
   "outputs": [
    {
     "name": "stdout",
     "output_type": "stream",
     "text": [
      "Hello world\n"
     ]
    }
   ],
   "source": [
    "print('Hello world')"
   ]
  },
  {
   "cell_type": "code",
   "execution_count": 12,
   "metadata": {},
   "outputs": [
    {
     "data": {
      "text/plain": [
       "0.33"
      ]
     },
     "execution_count": 12,
     "metadata": {},
     "output_type": "execute_result"
    }
   ],
   "source": [
    "round(1/3, 2)"
   ]
  },
  {
   "cell_type": "markdown",
   "metadata": {},
   "source": [
    "You don't need to worry about these numbers too much, but they can be a **warning sign that you've been running cells out of order** and you might get different output, errors, or unexpected behaviour next time you start fresh with a new kernel session.\n",
    "\n",
    "As a silly example, run each of the following three cells, in order, then go back to the middle cell which contains `print('Hello ' + city)` and run it again, by itself. Now the output of that cell reads `Hello Toronto`, even though the cell immediately above shows a value of `'Vancouver'` being assigned to the variable `city`, making things very confusing."
   ]
  },
  {
   "cell_type": "code",
   "execution_count": 13,
   "metadata": {},
   "outputs": [],
   "source": [
    "city = 'Vancouver'"
   ]
  },
  {
   "cell_type": "code",
   "execution_count": 14,
   "metadata": {},
   "outputs": [
    {
     "name": "stdout",
     "output_type": "stream",
     "text": [
      "Hello Vancouver\n"
     ]
    }
   ],
   "source": [
    "print('Hello ' + city)"
   ]
  },
  {
   "cell_type": "code",
   "execution_count": 15,
   "metadata": {},
   "outputs": [],
   "source": [
    "city = 'Toronto'"
   ]
  },
  {
   "cell_type": "markdown",
   "metadata": {},
   "source": [
    "As you're developing the code in your notebook, it's good practice to periodically restart the kernel and run all cells, &mdash;this allows you to make sure that everything works as expected when you run the whole notebook from top to bottom. Whenever feasible, I also try to consolidate any changes to the value of a variable within a single cell or a few adjacent cells, so that it has a consistent value for the rest of the notebook."
   ]
  },
  {
   "cell_type": "markdown",
   "metadata": {},
   "source": [
    "#### Interrupting the Kernel\n",
    "\n",
    "If the code in a cell takes a long time to run, you will see `In[*]` to the left of it. To see this in action, let's first import the `time` library:"
   ]
  },
  {
   "cell_type": "code",
   "execution_count": 16,
   "metadata": {},
   "outputs": [],
   "source": [
    "import time"
   ]
  },
  {
   "cell_type": "markdown",
   "metadata": {},
   "source": [
    "Now run the cell below and note the `In[*]`. When it eventually finishes executing, the `*` is replaced with a number. If a cell is taking too long to run, you can interrupt the kernel by going to the **Top Menu** and selecting Kernel $\\rightarrow$ Interrupt Kernel. Try running the cell below and interrupting the kernel partway through."
   ]
  },
  {
   "cell_type": "code",
   "execution_count": 17,
   "metadata": {},
   "outputs": [
    {
     "name": "stdout",
     "output_type": "stream",
     "text": [
      "0\n",
      "1\n",
      "2\n",
      "3\n",
      "4\n",
      "5\n",
      "6\n",
      "7\n",
      "8\n",
      "9\n"
     ]
    }
   ],
   "source": [
    "for i in range(10):\n",
    "    print(i)\n",
    "    time.sleep(5)"
   ]
  },
  {
   "cell_type": "markdown",
   "metadata": {},
   "source": [
    "Once in a while, the kernel hangs and becomes unresponsive and you'll see `In[*]` next to cells that should complete execution almost instantaneously. In that case you can try interrupting the kernel, or if that doesn't solve the problem, restart the kernel."
   ]
  },
  {
   "cell_type": "markdown",
   "metadata": {},
   "source": [
    "### Shutdown\n",
    "\n",
    "When you close the tab for a Jupyter notebook, the kernel keeps running in the background while JupyterLab is still open, so if you have some code that takes a long time to run, it will keep plugging away even if you don't keep the notebook open. You can open the notebook again later by double-clicking on it in the Files Sidebar, and pick up exactly where you left off. \n",
    "\n",
    "You can see what processes are running in JupyterLab by clicking \"Running\" on the Side Menu. From there, you can shutdown any notebooks that you want to stop. When you quit JupyterLab, any running processes will be shutdown.\n",
    "\n",
    "To quit JupyterLab, you need to close the browser tab and also close Anaconda Navigator (or, if you launched JupyterLab from the command prompt, close that console window)."
   ]
  }
 ],
 "metadata": {
  "kernelspec": {
   "display_name": "Python [default]",
   "language": "python",
   "name": "python3"
  },
  "language_info": {
   "codemirror_mode": {
    "name": "ipython",
    "version": 3
   },
   "file_extension": ".py",
   "mimetype": "text/x-python",
   "name": "python",
   "nbconvert_exporter": "python",
   "pygments_lexer": "ipython3",
   "version": "3.6.4"
  }
 },
 "nbformat": 4,
 "nbformat_minor": 2
}
